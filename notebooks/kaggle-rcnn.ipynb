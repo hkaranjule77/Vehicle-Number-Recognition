{
 "cells": [
  {
   "cell_type": "markdown",
   "metadata": {},
   "source": [
    "# RCNN"
   ]
  },
  {
   "cell_type": "markdown",
   "metadata": {},
   "source": [
    "**Reference:** https://www.youtube.com/watch?v=IcLEJB2pY2Y&t=2055s"
   ]
  },
  {
   "cell_type": "code",
   "execution_count": 1,
   "metadata": {},
   "outputs": [],
   "source": [
    "%config Completer.use_jedi = False    # for autocompletion"
   ]
  },
  {
   "cell_type": "code",
   "execution_count": 2,
   "metadata": {},
   "outputs": [],
   "source": [
    "import albumentations\n",
    "import glob\n",
    "import json\n",
    "import matplotlib.pyplot as plt\n",
    "import numpy as np\n",
    "import os\n",
    "\n",
    "import torch\n",
    "import torch.nn as nn\n",
    "import torch.nn.functional as F\n",
    "\n",
    "from sklearn import preprocessing\n",
    "from sklearn import model_selection\n",
    "from sklearn import metrics\n",
    "\n",
    "from PIL import Image\n",
    "from PIL import ImageFile\n",
    "from pprint import pprint\n",
    "from tqdm import tqdm"
   ]
  },
  {
   "cell_type": "code",
   "execution_count": 3,
   "metadata": {},
   "outputs": [],
   "source": [
    "# constants: configurations\n",
    "if os.path.exists('named-plate-dataset'):\n",
    "    DATA_DIR = 'named-plate-dataset'\n",
    "else:\n",
    "    DATA_DIR = os.path.join('..', 'datasets', 'named-plate-dataset')\n",
    "BATCH_SIZE = 1\n",
    "IMAGE_WIDTH = 230\n",
    "IMAGE_HEIGHT = 50\n",
    "NUM_WORKERS = 2\n",
    "DEVICE = 'cpu'  # cpu / cuda\n",
    "EPOCHS = 500  # in actual initialized 200 but trained till 100"
   ]
  },
  {
   "cell_type": "code",
   "execution_count": 4,
   "metadata": {},
   "outputs": [],
   "source": [
    "LR = 1e-4"
   ]
  },
  {
   "cell_type": "code",
   "execution_count": 5,
   "metadata": {},
   "outputs": [],
   "source": [
    "if os.sys.platform=='linux' and os.path.exists('../input/indnumberplate/gen-plate-dataset'):\n",
    "    DATA_DIR = '../input/indnumberplate/gen-plate-dataset'"
   ]
  },
  {
   "cell_type": "code",
   "execution_count": 6,
   "metadata": {},
   "outputs": [
    {
     "data": {
      "text/plain": [
       "True"
      ]
     },
     "execution_count": 6,
     "metadata": {},
     "output_type": "execute_result"
    }
   ],
   "source": [
    "os.path.exists(DATA_DIR)"
   ]
  },
  {
   "cell_type": "markdown",
   "metadata": {},
   "source": [
    "# Dataset"
   ]
  },
  {
   "cell_type": "code",
   "execution_count": 7,
   "metadata": {
    "code_folding": []
   },
   "outputs": [],
   "source": [
    "# dataset creations\n",
    "\n",
    "ImageFile.LOAD_TRUNCATED_IMAGES = True\n",
    "\n",
    "\n",
    "class ClassificationDataset:\n",
    "    def __init__(self, img_paths, targets, resize=None):\n",
    "        self.img_paths = img_paths\n",
    "        self.targets = targets\n",
    "        self.resize = resize\n",
    "        self.aug = albumentations.Compose(\n",
    "            [albumentations.Normalize(always_apply=True)])\n",
    "\n",
    "    def __len__(self):\n",
    "        return len(self.img_paths)\n",
    "\n",
    "    def __getitem__(self, item_index):\n",
    "        img = Image.open(self.img_paths[item_index])\n",
    "        targets = self.targets[item_index]\n",
    "\n",
    "        if self.resize is not None:\n",
    "            img = img.resize((self.resize[1], self.resize[0]),\n",
    "                             resample=Image.BILINEAR)\n",
    "\n",
    "        img = np.array(img)\n",
    "        augmented = self.aug(image = img)\n",
    "        img = augmented['image']\n",
    "        img = np.transpose(img, (2, 0, 1)).astype(np.float32)\n",
    "        return {\n",
    "            'imgs': torch.tensor(img, dtype=torch.float),\n",
    "            'targets': torch.tensor(targets, dtype=torch.long)\n",
    "        }"
   ]
  },
  {
   "cell_type": "markdown",
   "metadata": {},
   "source": [
    "# Engine"
   ]
  },
  {
   "cell_type": "code",
   "execution_count": 8,
   "metadata": {},
   "outputs": [],
   "source": [
    "# engine\n",
    "\n",
    "\n",
    "def train_fn(model, data_loader, optimizer):\n",
    "    model.train()\n",
    "    fin_loss = 0\n",
    "    tk = tqdm(data_loader, total=len(data_loader))\n",
    "    for data in tk:\n",
    "        for k, v in data.items():\n",
    "            data[k] = v.to(DEVICE)\n",
    "        optimizer.zero_grad()\n",
    "        _, loss = model(**data)\n",
    "        loss.backward()\n",
    "        optimizer.step()\n",
    "        fin_loss += loss.item()\n",
    "\n",
    "    return fin_loss / len(data_loader)\n",
    "\n",
    "\n",
    "def eval_fn(model, data_loader, optimizer):\n",
    "    model.eval()\n",
    "    fin_loss = 0\n",
    "    fin_preds = []\n",
    "    with torch.no_grad():\n",
    "        tk = tqdm(data_loader, total=len(data_loader))\n",
    "        for data in tk:\n",
    "            for k, v in data.items():\n",
    "                data[k] = v.to(DEVICE)\n",
    "            batch_preds, loss = model(**data)\n",
    "\n",
    "            fin_loss += loss.item()\n",
    "            fin_preds.append(batch_preds)\n",
    "\n",
    "        return fin_preds, fin_loss / len(data_loader)"
   ]
  },
  {
   "cell_type": "markdown",
   "metadata": {},
   "source": [
    "# Model"
   ]
  },
  {
   "cell_type": "code",
   "execution_count": 9,
   "metadata": {},
   "outputs": [],
   "source": [
    "# model\n",
    "\n",
    "\n",
    "class PlateRecognizer(nn.Module):\n",
    "    def __init__(self, num_chars):\n",
    "        super(PlateRecognizer, self).__init__()\n",
    "        self.conv1 = nn.Conv2d(3,128, kernel_size=(3, 6), padding=(1, 1))\n",
    "        self.max_pool_1 = nn.MaxPool2d(kernel_size=(2, 2))\n",
    "        self.conv2 = nn.Conv2d(128, 64, kernel_size=(3, 6), padding=(1, 1))\n",
    "        self.max_pool_2 = nn.MaxPool2d(kernel_size=(2, 2))\n",
    "\n",
    "        self.linear = nn.Linear(768, 64)\n",
    "        self.drop = nn.Dropout(0.2)  # doesn't change size\n",
    "\n",
    "        self.gru = nn.GRU(64,\n",
    "                          32,\n",
    "                          bidirectional = True,\n",
    "                          num_layers=2,\n",
    "                          dropout=0.25,\n",
    "                          batch_first=True\n",
    "                         )\n",
    "        self.output = nn.Linear(64, num_chars + 1)\n",
    "\n",
    "    def forward(self, imgs, targets=None):\n",
    "        bs, c, w, h = imgs.size()\n",
    "        # print(bs, c, w, h)    # for debugging\n",
    "        x = F.relu(self.conv1(imgs))\n",
    "        # print('Conv1', x.size())\n",
    "        x = self.max_pool_1(x)\n",
    "        # print('MaxPool', x.size())\n",
    "        x = F.relu(self.conv2(x))\n",
    "        # print('Conv2', x.size())\n",
    "        x = self.max_pool_2(x)  # 1, 64, 12, 57\n",
    "        # print('MaxPool', x.size())\n",
    "\n",
    "        # to brind width first but in our case it's properly arranged\n",
    "        x = x.permute(0, 3, 1, 2)  # 1, 57, 64, 12\n",
    "        # print('Permute', x.size())\n",
    "        x = x.view(bs, x.size(1), -1)\n",
    "        # print('View', x.size())\n",
    "\n",
    "        x = self.linear(x)\n",
    "        x = self.drop(x)\n",
    "        # print('Linear', x.size())\n",
    "\n",
    "        x, _ = self.gru(x)\n",
    "        # print('Recurrent', x.size())\n",
    "\n",
    "        x = self.output(x)\n",
    "        # print('output', x.size())\n",
    "\n",
    "        x = x.permute(1, 0, 2)\n",
    "        if targets is not None:\n",
    "            # CTC\n",
    "            log_probs = F.log_softmax(x, 2)\n",
    "            input_lengths = torch.full(size=(bs, ),\n",
    "                                       fill_value=log_probs.size(0),\n",
    "                                       dtype=torch.int32)\n",
    "            # print('input lengths', input_lengths)\n",
    "            target_lengths = torch.full(size=(bs, ),\n",
    "                                        fill_value=targets.size(1),\n",
    "                                        dtype=torch.int32)\n",
    "            # print('target lengths', target_lengths)\n",
    "            loss = nn.CTCLoss(blank=0)(log_probs, targets,\n",
    "                                       input_lengths, target_lengths)\n",
    "            return x, loss\n",
    "\n",
    "        return x, None"
   ]
  },
  {
   "cell_type": "code",
   "execution_count": 10,
   "metadata": {
    "scrolled": true
   },
   "outputs": [],
   "source": [
    "# for debugging model\n",
    "\n",
    "cm = PlateRecognizer(19)\n",
    "img = torch.rand(5, 3, IMAGE_HEIGHT, IMAGE_WIDTH)\n",
    "targets = torch.randint(1, 6, (5, 5))\n",
    "x, loss = cm(img, targets)\n",
    "\n",
    "del (cm)"
   ]
  },
  {
   "cell_type": "markdown",
   "metadata": {},
   "source": [
    "# Train"
   ]
  },
  {
   "cell_type": "code",
   "execution_count": 11,
   "metadata": {},
   "outputs": [],
   "source": [
    "# generate img & target list\n",
    "\n",
    "\n",
    "def get_img_label():\n",
    "    '''Returns tuple of img filename list and target_label list.'''\n",
    "    img_files = glob.glob(os.path.join(DATA_DIR, '*.jpg'))\n",
    "    if os.sys.platform == 'win32':\n",
    "        separator = '\\\\'\n",
    "    else:\n",
    "        separator = '/'\n",
    "    targets_orig = [x.split(separator)[-1][:-4] for x in img_files]\n",
    "    return img_files, targets_orig"
   ]
  },
  {
   "cell_type": "code",
   "execution_count": 12,
   "metadata": {},
   "outputs": [],
   "source": [
    "# target preprocessing\n",
    "\n",
    "\n",
    "def get_target_list(target_orig):\n",
    "    targets = [[c for c in x] for x in targets_orig]\n",
    "    targets_flat = [c for clist in targets for c in clist]\n",
    "    return targets, targets_flat"
   ]
  },
  {
   "cell_type": "code",
   "execution_count": 13,
   "metadata": {},
   "outputs": [],
   "source": [
    "# target encoding\n",
    "\n",
    "\n",
    "def encode_labels(targets, targets_flat):\n",
    "    lbl_enc = preprocessing.LabelEncoder()\n",
    "    lbl_enc.fit(targets_flat)\n",
    "    targets_enc = [lbl_enc.transform(x) for x in targets]\n",
    "    # 1 is added to shift characters as 0 index will be reserved for null Value\n",
    "    # null is not whitespace character\n",
    "    targets_enc = np.array(targets_enc) + 1\n",
    "    return lbl_enc, targets_enc"
   ]
  },
  {
   "cell_type": "code",
   "execution_count": 14,
   "metadata": {},
   "outputs": [],
   "source": [
    "# decodes labels\n",
    "\n",
    "\n",
    "def decode_predictions(preds, encoder, collapse_repeated=True):\n",
    "    ''' Decodes CTC String to normal string'''\n",
    "    preds = preds.permute(1, 0, 2)\n",
    "    preds = torch.softmax(preds, 2)\n",
    "    preds = torch.argmax(preds, 2)\n",
    "    preds = preds.detach().cpu().numpy(\n",
    "    )  # change cpu to cuda if training on gpu\n",
    "    cap_preds = []\n",
    "    for j in range(preds.shape[0]):\n",
    "        temp = ''\n",
    "        prev_char = None\n",
    "        for k in preds[j]:\n",
    "            k = k - 1\n",
    "            # k = -1 mean a empty value\n",
    "            if k == -1: # or (collapse_repeated and k == prev_char):\n",
    "                temp += '`'\n",
    "            else:\n",
    "                # print(encoder.inverse_transform([k]), k)\n",
    "                temp += encoder.inverse_transform([k])[0]\n",
    "            prev_char = k\n",
    "        tp = \"\" + temp\n",
    "        # print(preds[j], targets[j], tp)\n",
    "        cap_preds.append(tp)\n",
    "    return cap_preds"
   ]
  },
  {
   "cell_type": "code",
   "execution_count": 15,
   "metadata": {},
   "outputs": [],
   "source": [
    "# checks if all characters of targets are in predictions\n",
    "\n",
    "\n",
    "def char_accuracy(preds, targets):\n",
    "    sum_accuracy = 0\n",
    "    total_preds = 0\n",
    "    for index in range(len(preds)):\n",
    "        correct_char = 0\n",
    "        for char in preds[index]:\n",
    "            if char in targets[index]:\n",
    "                correct_char += 1\n",
    "        accuracy = correct_char / len(preds[index])\n",
    "        sum_accuracy += accuracy\n",
    "        total_preds += 1\n",
    "    return sum_accuracy / total_preds"
   ]
  },
  {
   "cell_type": "code",
   "execution_count": 16,
   "metadata": {},
   "outputs": [],
   "source": [
    "# checks if all predictions are same as labels\n",
    "\n",
    "\n",
    "def label_accuracy(preds, targets):\n",
    "    correct_labels = 0\n",
    "    for index in range(len(preds)):\n",
    "        if preds[index] == targets[index]:\n",
    "            correct_labels += 1\n",
    "    return correct_labels / len(preds)"
   ]
  },
  {
   "cell_type": "code",
   "execution_count": 23,
   "metadata": {},
   "outputs": [
    {
     "name": "stderr",
     "output_type": "stream",
     "text": [
      "<ipython-input-13-735a22edcc22>:10: VisibleDeprecationWarning: Creating an ndarray from ragged nested sequences (which is a list-or-tuple of lists-or-tuples-or ndarrays with different lengths or shapes) is deprecated. If you meant to do this, you must specify 'dtype=object' when creating the ndarray\n",
      "  targets_enc = np.array(targets_enc) + 1\n"
     ]
    }
   ],
   "source": [
    "# data preprocessing & encoding\n",
    "\n",
    "img_files, targets_orig = get_img_label()\n",
    "\n",
    "targets, targets_flat = get_target_list(targets_orig)\n",
    "lbl_enc, targets_enc = encode_labels(targets, targets_flat)"
   ]
  },
  {
   "cell_type": "code",
   "execution_count": 24,
   "metadata": {},
   "outputs": [],
   "source": [
    "# data splitting\n",
    "\n",
    "(train_imgs, test_imgs, train_targets, test_targets, train_orig_targets,\n",
    " test_orig_targets) = model_selection.train_test_split(img_files,\n",
    "                                                       targets_enc,\n",
    "                                                       targets_orig,\n",
    "                                                       test_size=0.1,\n",
    "                                                       random_state=42)"
   ]
  },
  {
   "cell_type": "code",
   "execution_count": 25,
   "metadata": {},
   "outputs": [],
   "source": [
    "# train dataset & loader\n",
    "\n",
    "train_dataset = ClassificationDataset(\n",
    "                    img_paths=train_imgs, \n",
    "                    targets=train_targets,\n",
    "                    resize=(IMAGE_HEIGHT, IMAGE_WIDTH)\n",
    "                )\n",
    "\n",
    "train_loader = torch.utils.data.DataLoader(\n",
    "                    train_dataset,\n",
    "                    batch_size = BATCH_SIZE,\n",
    "                    num_workers = NUM_WORKERS,\n",
    "                    shuffle = True\n",
    "                )\n",
    "\n",
    "# for debugging\n",
    "\n",
    "# npimg = train_dataset[0]['imgs'].numpy()\n",
    "# plt.imshow(np.transpose(npimg, (1, 2, 0)))"
   ]
  },
  {
   "cell_type": "code",
   "execution_count": 26,
   "metadata": {},
   "outputs": [],
   "source": [
    "# test_dataset & loader\n",
    "\n",
    "test_dataset = ClassificationDataset(\n",
    "                    img_paths = test_imgs,\n",
    "                    targets = test_targets,\n",
    "                    resize = (IMAGE_HEIGHT, IMAGE_WIDTH)\n",
    "                )\n",
    "test_loader = torch.utils.data.DataLoader(\n",
    "                test_dataset,\n",
    "                batch_size = BATCH_SIZE,\n",
    "                num_workers = NUM_WORKERS,\n",
    "                shuffle = False\n",
    "            )"
   ]
  },
  {
   "cell_type": "code",
   "execution_count": 27,
   "metadata": {},
   "outputs": [
    {
     "name": "stderr",
     "output_type": "stream",
     "text": [
      "Clipping input data to the valid range for imshow with RGB data ([0..1] for floats or [0..255] for integers).\n"
     ]
    },
    {
     "name": "stdout",
     "output_type": "stream",
     "text": [
      "torch.Size([3, 50, 230])\n"
     ]
    },
    {
     "data": {
      "text/plain": [
       "('Image shape: ',\n",
       " torch.Size([3, 50, 230]),\n",
       " array(['A', 'P', '2', '8', ' ', 'B', 'K', ' ', '9', '0', '3', '0'],\n",
       "       dtype='<U1'))"
      ]
     },
     "execution_count": 27,
     "metadata": {},
     "output_type": "execute_result"
    },
    {
     "data": {
      "image/png": "[encoded data removed]",
      "text/plain": [
       "<Figure size 432x288 with 1 Axes>"
      ]
     },
     "metadata": {
      "needs_background": "light"
     },
     "output_type": "display_data"
    }
   ],
   "source": [
    "# train data visualization\n",
    "\n",
    "img = train_dataset[0]['imgs']\n",
    "lbl_int = train_dataset[0]['targets'] - 1    # 1 is subtracted as it was added during encoding process\n",
    "label = lbl_enc.inverse_transform(lbl_int)\n",
    "print(img.shape)\n",
    "plt.imshow(img.permute(1, 2, 0))\n",
    "'Image shape: ', img.shape, label"
   ]
  },
  {
   "cell_type": "code",
   "execution_count": 29,
   "metadata": {},
   "outputs": [
    {
     "name": "stderr",
     "output_type": "stream",
     "text": [
      "Clipping input data to the valid range for imshow with RGB data ([0..1] for floats or [0..255] for integers).\n"
     ]
    },
    {
     "data": {
      "text/plain": [
       "tensor([[[-0.6794, -0.6623, -0.6452,  ..., -0.4739, -0.4911, -0.5082],\n",
       "         [-0.7137, -0.6965, -0.6794,  ..., -0.4739, -0.4911, -0.4911],\n",
       "         [-0.7308, -0.7308, -0.7137,  ..., -0.4568, -0.4739, -0.4739],\n",
       "         ...,\n",
       "         [-0.6623, -0.6623, -0.6452,  ..., -0.6623, -0.6452, -0.6281],\n",
       "         [-0.7137, -0.6794, -0.6623,  ..., -0.6623, -0.6623, -0.6623],\n",
       "         [-0.7137, -0.6794, -0.6623,  ..., -0.6623, -0.6623, -0.6623]],\n",
       "\n",
       "        [[-0.3025, -0.2850, -0.2675,  ..., -0.0924, -0.1099, -0.1275],\n",
       "         [-0.3375, -0.3200, -0.3025,  ..., -0.0924, -0.1099, -0.1099],\n",
       "         [-0.3550, -0.3550, -0.3375,  ..., -0.0749, -0.0924, -0.0924],\n",
       "         ...,\n",
       "         [-0.2150, -0.2150, -0.1975,  ..., -0.2675, -0.2500, -0.2325],\n",
       "         [-0.3025, -0.2675, -0.2500,  ..., -0.2675, -0.2675, -0.2675],\n",
       "         [-0.3025, -0.2675, -0.2500,  ..., -0.2675, -0.2675, -0.2675]],\n",
       "\n",
       "        [[-0.6193, -0.6018, -0.5844,  ..., -0.2532, -0.2881, -0.3055],\n",
       "         [-0.6541, -0.6367, -0.6193,  ..., -0.2358, -0.2881, -0.2881],\n",
       "         [-0.6715, -0.6715, -0.6541,  ..., -0.2184, -0.2707, -0.2707],\n",
       "         ...,\n",
       "         [-0.5147, -0.5147, -0.4973,  ..., -0.5147, -0.4973, -0.4798],\n",
       "         [-0.6367, -0.6018, -0.5844,  ..., -0.5147, -0.5147, -0.5147],\n",
       "         [-0.6367, -0.6018, -0.5844,  ..., -0.5147, -0.5147, -0.5147]]])"
      ]
     },
     "execution_count": 29,
     "metadata": {},
     "output_type": "execute_result"
    },
    {
     "data": {
      "image/png": "[encoded data removed]",
      "text/plain": [
       "<Figure size 432x288 with 1 Axes>"
      ]
     },
     "metadata": {
      "needs_background": "light"
     },
     "output_type": "display_data"
    }
   ],
   "source": [
    "# test data visualiztion\n",
    "\n",
    "img = test_dataset[0]['imgs']\n",
    "lbl_int = test_dataset[0]['targets'] - 1 # \n",
    "label = lbl_enc.inverse_transform(lbl_int)\n",
    "plt.imshow(img.permute(1, 2, 0))\n",
    "img"
   ]
  },
  {
   "cell_type": "code",
   "execution_count": 30,
   "metadata": {},
   "outputs": [],
   "source": [
    "# model, optimizer & schedular\n",
    "\n",
    "model = PlateRecognizer(num_chars=len(lbl_enc.classes_))\n",
    "model.to(DEVICE)\n",
    "\n",
    "optimizer = torch.optim.Adam(model.parameters(), lr=LR)\n",
    "optimizer_name = 'Adam'\n",
    "schedular = torch.optim.lr_scheduler.ReduceLROnPlateau(\n",
    "    optimizer, factor=0.8, patience=4, verbose=True\n",
    ")\n",
    "schedular_name = 'ReduceLROnPlateau'\n",
    "\n"
   ]
  },
  {
   "cell_type": "code",
   "execution_count": 31,
   "metadata": {},
   "outputs": [],
   "source": [
    "# actual training\n",
    "loss = {'train': [], 'valid': []}\n",
    "accuracy = {'character': [], 'label': []}\n",
    "epoch_count = 0\n",
    "\n",
    "def run_training(model, train_loader, test_loader, optimizer, schedular, lbl_enc):\n",
    "    global epoch_count\n",
    "    for epoch in range(epoch_count, EPOCHS):\n",
    "        train_loss = train_fn(model, train_loader, optimizer)\n",
    "        valid_preds, valid_loss = eval_fn(model, test_loader, optimizer)\n",
    "        \n",
    "        valid_plate_preds = []\n",
    "        for vp in valid_preds:\n",
    "            current_preds = decode_predictions(vp, lbl_enc, False)\n",
    "            valid_plate_preds.extend(current_preds)\n",
    "            \n",
    "        combined = list(zip(test_orig_targets, valid_plate_preds))\n",
    "            \n",
    "        char_acc = char_accuracy(test_orig_targets, valid_plate_preds)\n",
    "        label_acc = label_accuracy(test_orig_targets, valid_plate_preds)\n",
    "            \n",
    "        # calculate accuracy of model and log it   \n",
    "        pprint(combined[:10])\n",
    "        print(f\"Epoch:{epoch}, train_loss:{train_loss}, valid_loss={valid_loss}\")\n",
    "        print(f\"char_accuracy:{char_acc}, label_accuracy:{label_acc}\")\n",
    "        \n",
    "        loss['train'].append(train_loss)\n",
    "        loss['valid'].append(valid_loss)\n",
    "        accuracy['character'].append(char_acc)\n",
    "        accuracy['label'].append(label_acc)\n",
    "        \n",
    "        if char_acc > 95.0:\n",
    "            break\n",
    "        \n",
    "        epoch_count += 1\n",
    "        schedular.step(valid_loss)\n"
   ]
  },
  {
   "cell_type": "markdown",
   "metadata": {},
   "source": [
    "# Resume Training\n",
    "Execute following cells only if you want to resume previously trained model."
   ]
  },
  {
   "cell_type": "code",
   "execution_count": 59,
   "metadata": {},
   "outputs": [],
   "source": [
    "# copy & paste files path of weights.pth & optimizer.pth\n",
    "\n",
    "STATE_PATH = '../train/harshad/text_recognition-ver-18.0.pth'    # text-recognition-ver-X.X.pth"
   ]
  },
  {
   "cell_type": "code",
   "execution_count": 60,
   "metadata": {},
   "outputs": [
    {
     "data": {
      "text/plain": [
       "\"comment: improved as github[' ' '0' '1' '2' '3' '4' '5' '6' '7' '8' '9' 'A' 'B' 'C' 'D' 'E' 'F' 'G'\\n 'H' 'I' 'J' 'K' 'L' 'M' 'N' 'O' 'P' 'Q' 'R' 'S' 'T' 'U' 'V' 'W' 'X' 'Y'\\n 'Z']\""
      ]
     },
     "execution_count": 60,
     "metadata": {},
     "output_type": "execute_result"
    }
   ],
   "source": [
    "# loads model and optimzer\n",
    "\n",
    "checkpoint = torch.load(\n",
    "                STATE_PATH, \n",
    "                map_location=torch.device(DEVICE)\n",
    "            )\n",
    "LR = checkpoint['lr']\n",
    "model = checkpoint['model']\n",
    "epoch_count = checkpoint['train_epoch']\n",
    "model.load_state_dict(checkpoint['model_state_dict'])\n",
    "\n",
    "if checkpoint['optimizer_name'] == 'Adam':\n",
    "    optimizer = torch.optim.Adam(model.parameters(), lr = LR)\n",
    "    optimizer.load_state_dict(checkpoint['optimizer_state_dict'])\n",
    "    \n",
    "if checkpoint['scheduler_name'] == 'ReduceLROnPlateau':\n",
    "    schedular = torch.optim.lr_scheduler.ReduceLROnPlateau(\n",
    "        optimizer, factor=0.8, patience=5, verbose=True\n",
    "    )\n",
    "    schedular.load_state_dict(checkpoint['scheduler_state_dict'])\n",
    "\n",
    "loss = checkpoint['loss']\n",
    "accuracy = checkpoint['accuracy']\n",
    "comment = checkpoint['comment']\n",
    "'comment: '+ comment + str(checkpoint['classes'])"
   ]
  },
  {
   "cell_type": "code",
   "execution_count": 61,
   "metadata": {},
   "outputs": [
    {
     "name": "stdout",
     "output_type": "stream",
     "text": [
      "LR:  0.0001 \n",
      "Trained_epoch_count:  50 \n",
      "EPOCHS:  500\n"
     ]
    }
   ],
   "source": [
    "print('LR: ', LR,'\\nTrained_epoch_count: ', epoch_count, '\\nEPOCHS: ', EPOCHS)"
   ]
  },
  {
   "cell_type": "markdown",
   "metadata": {},
   "source": [
    "Change **EPOCH** such that **EPOCH > epoch_count**"
   ]
  },
  {
   "cell_type": "code",
   "execution_count": 62,
   "metadata": {},
   "outputs": [
    {
     "data": {
      "image/png": "[encoded data removed]",
      "text/plain": [
       "<Figure size 432x288 with 1 Axes>"
      ]
     },
     "metadata": {
      "needs_background": "light"
     },
     "output_type": "display_data"
    }
   ],
   "source": [
    "plt.title('LOSS: Train vs Valid')\n",
    "plt.plot(loss['train'])\n",
    "plt.plot(loss['valid'])\n",
    "plt.legend(['train', 'valid'])\n",
    "plt.show()"
   ]
  },
  {
   "cell_type": "code",
   "execution_count": 63,
   "metadata": {
    "scrolled": true
   },
   "outputs": [
    {
     "data": {
      "image/png": "[encoded data removed]",
      "text/plain": [
       "<Figure size 432x288 with 1 Axes>"
      ]
     },
     "metadata": {
      "needs_background": "light"
     },
     "output_type": "display_data"
    }
   ],
   "source": [
    "plt.title('Accuracy: Character vs Label')\n",
    "plt.plot(accuracy['character'])\n",
    "plt.plot(accuracy['label'])\n",
    "plt.legend(['character', 'label'])\n",
    "plt.show()"
   ]
  },
  {
   "cell_type": "markdown",
   "metadata": {},
   "source": [
    "# Start Training "
   ]
  },
  {
   "cell_type": "code",
   "execution_count": null,
   "metadata": {
    "scrolled": true
   },
   "outputs": [
    {
     "name": "stderr",
     "output_type": "stream",
     "text": [
      "  0%|          | 0/416 [00:00<?, ?it/s]/home/hkaranjule77/anaconda3/lib/python3.8/site-packages/torch/autograd/__init__.py:130: UserWarning: CUDA initialization: Found no NVIDIA driver on your system. Please check that you have an NVIDIA GPU and installed a driver from http://www.nvidia.com/Download/index.aspx (Triggered internally at  /pytorch/c10/cuda/CUDAFunctions.cpp:100.)\n",
      "  Variable._execution_engine.run_backward(\n",
      "100%|██████████| 416/416 [00:32<00:00, 12.69it/s]\n",
      "100%|██████████| 47/47 [00:01<00:00, 36.41it/s]\n",
      "  0%|          | 0/416 [00:00<?, ?it/s]"
     ]
    },
    {
     "name": "stdout",
     "output_type": "stream",
     "text": [
      "[('MH 06 AZ 4325', '```````````````````````````````````````````````````````'),\n",
      " ('MH 46 N 2154', '```````````````````````````````````````````````````````'),\n",
      " ('DL3CAE2067', '```````````````````````````````````````````````````````'),\n",
      " ('AP 10 BB 3651', '```````````````````````````````````````````````````````'),\n",
      " ('WB 06A 1789', '```````````````````````````````````````````````````````'),\n",
      " ('WB 06F 6645', '```````````````````````````````````````````````````````'),\n",
      " ('AP 13M 6477', '```````````````````````````````````````````````````````'),\n",
      " ('PB 10 CE 5758', '```````````````````````````````````````````````````````'),\n",
      " ('KA 51 MA 425', '```````````````````````````````````````````````````````'),\n",
      " ('DL 4C ND 3660', '```````````````````````````````````````````````````````')]\n",
      "Epoch:0, train_loss:4.566752501405203, valid_loss=3.2856557470686893\n",
      "char_accuracy:0.0, label_accuracy:0.0\n"
     ]
    },
    {
     "name": "stderr",
     "output_type": "stream",
     "text": [
      "100%|██████████| 416/416 [00:32<00:00, 12.80it/s]\n",
      "100%|██████████| 47/47 [00:01<00:00, 38.08it/s]\n",
      "  0%|          | 0/416 [00:00<?, ?it/s]"
     ]
    },
    {
     "name": "stdout",
     "output_type": "stream",
     "text": [
      "[('MH 06 AZ 4325', '```````````````````````````````````````````````````````'),\n",
      " ('MH 46 N 2154', '```````````````````````````````````````````````````````'),\n",
      " ('DL3CAE2067', '```````````````````````````````````````````````````````'),\n",
      " ('AP 10 BB 3651', '```````````````````````````````````````````````````````'),\n",
      " ('WB 06A 1789', '```````````````````````````````````````````````````````'),\n",
      " ('WB 06F 6645', '```````````````````````````````````````````````````````'),\n",
      " ('AP 13M 6477', '```````````````````````````````````````````````````````'),\n",
      " ('PB 10 CE 5758', '```````````````````````````````````````````````````````'),\n",
      " ('KA 51 MA 425', '```````````````````````````````````````````````````````'),\n",
      " ('DL 4C ND 3660', '```````````````````````````````````````````````````````')]\n",
      "Epoch:1, train_loss:3.246692547431359, valid_loss=3.186901625166548\n",
      "char_accuracy:0.0, label_accuracy:0.0\n"
     ]
    },
    {
     "name": "stderr",
     "output_type": "stream",
     "text": [
      "100%|██████████| 416/416 [00:33<00:00, 12.32it/s]\n",
      "100%|██████████| 47/47 [00:01<00:00, 38.80it/s]\n",
      "  0%|          | 0/416 [00:00<?, ?it/s]"
     ]
    },
    {
     "name": "stdout",
     "output_type": "stream",
     "text": [
      "[('MH 06 AZ 4325', '```````````````````````````````````````````````````````'),\n",
      " ('MH 46 N 2154', '```````````````````````````````````````````````````````'),\n",
      " ('DL3CAE2067', '```````````````````````````````````````````````````````'),\n",
      " ('AP 10 BB 3651', '```````````````````````````````````````````````````````'),\n",
      " ('WB 06A 1789', '```````````````````````````````````````````````````````'),\n",
      " ('WB 06F 6645', '```````````````````````````````````````````````````````'),\n",
      " ('AP 13M 6477', '```````````````````````````````````````````````````````'),\n",
      " ('PB 10 CE 5758', '```````````````````````````````````````````````````````'),\n",
      " ('KA 51 MA 425', '```````````````````````````````````````````````````````'),\n",
      " ('DL 4C ND 3660', '```````````````````````````````````````````````````````')]\n",
      "Epoch:2, train_loss:3.1872044371870847, valid_loss=3.156900208047096\n",
      "char_accuracy:0.0, label_accuracy:0.0\n"
     ]
    },
    {
     "name": "stderr",
     "output_type": "stream",
     "text": [
      "100%|██████████| 416/416 [00:32<00:00, 12.80it/s]\n",
      "100%|██████████| 47/47 [00:01<00:00, 38.66it/s]\n",
      "  0%|          | 0/416 [00:00<?, ?it/s]"
     ]
    },
    {
     "name": "stdout",
     "output_type": "stream",
     "text": [
      "[('MH 06 AZ 4325', '```````````````````````````````````````````````````````'),\n",
      " ('MH 46 N 2154', '```````````````````````````````````````````````````````'),\n",
      " ('DL3CAE2067', '```````````````````````````````````````````````````````'),\n",
      " ('AP 10 BB 3651', '```````````````````````````````````````````````````````'),\n",
      " ('WB 06A 1789', '```````````````````````````````````````````````````````'),\n",
      " ('WB 06F 6645', '```````````````````````````````````````````````````````'),\n",
      " ('AP 13M 6477', '```````````````````````````````````````````````````````'),\n",
      " ('PB 10 CE 5758', '```````````````````````````````````````````````````````'),\n",
      " ('KA 51 MA 425', '```````````````````````````````````````````````````````'),\n",
      " ('DL 4C ND 3660', '```````````````````````````````````````````````````````')]\n",
      "Epoch:3, train_loss:3.148187790352565, valid_loss=3.1231645472506258\n",
      "char_accuracy:0.0, label_accuracy:0.0\n"
     ]
    },
    {
     "name": "stderr",
     "output_type": "stream",
     "text": [
      "100%|██████████| 416/416 [00:32<00:00, 12.73it/s]\n",
      "100%|██████████| 47/47 [00:01<00:00, 40.31it/s]\n",
      "  0%|          | 0/416 [00:00<?, ?it/s]"
     ]
    },
    {
     "name": "stdout",
     "output_type": "stream",
     "text": [
      "[('MH 06 AZ 4325', '```````````````````````````````````````````````````````'),\n",
      " ('MH 46 N 2154', '```````````````````````````````````````````````````````'),\n",
      " ('DL3CAE2067', '```````````````````````````````````````````````````````'),\n",
      " ('AP 10 BB 3651', '```````````````````````````````````````````````````````'),\n",
      " ('WB 06A 1789', '```````````````````````````````````````````````````````'),\n",
      " ('WB 06F 6645', '```````````````````````````````````````````````````````'),\n",
      " ('AP 13M 6477', '```````````````````````````````````````````````````````'),\n",
      " ('PB 10 CE 5758', '```````````````````````````````````````````````````````'),\n",
      " ('KA 51 MA 425', '```````````````````````````````````````````````````````'),\n",
      " ('DL 4C ND 3660', '```````````````````````````````````````````````````````')]\n",
      "Epoch:4, train_loss:3.111067613730064, valid_loss=3.068299816009846\n",
      "char_accuracy:0.0, label_accuracy:0.0\n"
     ]
    },
    {
     "name": "stderr",
     "output_type": "stream",
     "text": [
      "100%|██████████| 416/416 [00:32<00:00, 12.64it/s]\n",
      "100%|██████████| 47/47 [00:01<00:00, 40.02it/s]\n",
      "  0%|          | 0/416 [00:00<?, ?it/s]"
     ]
    },
    {
     "name": "stdout",
     "output_type": "stream",
     "text": [
      "[('MH 06 AZ 4325', '```````````````````````````````````````````````````````'),\n",
      " ('MH 46 N 2154', '```````````````````````````````````````````````````````'),\n",
      " ('DL3CAE2067', '```````````````````````````````````````````````````````'),\n",
      " ('AP 10 BB 3651', '```````````````````````````````````````````````````````'),\n",
      " ('WB 06A 1789', '```````````````````````````````````````````````````````'),\n",
      " ('WB 06F 6645', '```````````````````````````````````````````````````````'),\n",
      " ('AP 13M 6477', '```````````````````````````````````````````````````````'),\n",
      " ('PB 10 CE 5758', '```````````````````````````````````````````````````````'),\n",
      " ('KA 51 MA 425', '```````````````````````````````````````````````````````'),\n",
      " ('DL 4C ND 3660', '```````````````````````````````````````````````````````')]\n",
      "Epoch:5, train_loss:3.0636080004847965, valid_loss=3.012969417774931\n",
      "char_accuracy:0.0, label_accuracy:0.0\n"
     ]
    },
    {
     "name": "stderr",
     "output_type": "stream",
     "text": [
      "100%|██████████| 416/416 [00:32<00:00, 12.76it/s]\n",
      "100%|██████████| 47/47 [00:01<00:00, 32.16it/s]\n",
      "  0%|          | 0/416 [00:00<?, ?it/s]"
     ]
    },
    {
     "name": "stdout",
     "output_type": "stream",
     "text": [
      "[('MH 06 AZ 4325', '```````````````````````````````````````````````````````'),\n",
      " ('MH 46 N 2154', 'M``````````````````````````````````````````````````````'),\n",
      " ('DL3CAE2067', 'M``````````````````````````````````````````````````````'),\n",
      " ('AP 10 BB 3651', 'M``````````````````````````````````````````````````````'),\n",
      " ('WB 06A 1789', 'M``````````````````````````````````````````````````````'),\n",
      " ('WB 06F 6645', '```````````````````````````````````````````````````````'),\n",
      " ('AP 13M 6477', 'M``````````````````````````````````````````````````````'),\n",
      " ('PB 10 CE 5758', '```````````````````````````````````````````````````````'),\n",
      " ('KA 51 MA 425', 'M``````````````````````````````````````````````````````'),\n",
      " ('DL 4C ND 3660', 'M``````````````````````````````````````````````````````')]\n",
      "Epoch:6, train_loss:3.0158219503668637, valid_loss=2.9630296839044448\n",
      "char_accuracy:0.021348155390708577, label_accuracy:0.0\n"
     ]
    },
    {
     "name": "stderr",
     "output_type": "stream",
     "text": [
      "100%|██████████| 416/416 [00:32<00:00, 12.91it/s]\n",
      "100%|██████████| 47/47 [00:01<00:00, 39.07it/s]\n",
      "  0%|          | 0/416 [00:00<?, ?it/s]"
     ]
    },
    {
     "name": "stdout",
     "output_type": "stream",
     "text": [
      "[('MH 06 AZ 4325', 'M``````````````````````````````````````````````````````'),\n",
      " ('MH 46 N 2154', 'M``````````````````````````````````````````````````````'),\n",
      " ('DL3CAE2067', 'M``````````````````````````````````````````````````````'),\n",
      " ('AP 10 BB 3651', 'M``````````````````````````````````````````````````````'),\n",
      " ('WB 06A 1789', 'M``````````````````````````````````````````````````````'),\n",
      " ('WB 06F 6645', 'M``````````````````````````````````````````````````````'),\n",
      " ('AP 13M 6477', 'M``````````````````````````````````````````````````````'),\n",
      " ('PB 10 CE 5758', 'M``````````````````````````````````````````````````````'),\n",
      " ('KA 51 MA 425', 'M``````````````````````````````````````````````````````'),\n",
      " ('DL 4C ND 3660', 'M``````````````````````````````````````````````````````')]\n",
      "Epoch:7, train_loss:2.971740048092145, valid_loss=2.9138082341944918\n",
      "char_accuracy:0.03834605111200855, label_accuracy:0.0\n"
     ]
    },
    {
     "name": "stderr",
     "output_type": "stream",
     "text": [
      "100%|██████████| 416/416 [00:33<00:00, 12.42it/s]\n",
      "100%|██████████| 47/47 [00:01<00:00, 39.28it/s]\n",
      "  0%|          | 0/416 [00:00<?, ?it/s]"
     ]
    },
    {
     "name": "stdout",
     "output_type": "stream",
     "text": [
      "[('MH 06 AZ 4325', 'M``````````````````````````````````````````````````````'),\n",
      " ('MH 46 N 2154', 'M``````````````````````````````````````````````````````'),\n",
      " ('DL3CAE2067', 'M``````````````````````````````````````````````````````'),\n",
      " ('AP 10 BB 3651', 'M``````````````````````````````````````````````````````'),\n",
      " ('WB 06A 1789', 'M``````````````````````````````````````````````````````'),\n",
      " ('WB 06F 6645', 'M``````````````````````````````````````````````````````'),\n",
      " ('AP 13M 6477', 'M``````````````````````````````````````````````````````'),\n",
      " ('PB 10 CE 5758', 'M``````````````````````````````````````````````````````'),\n",
      " ('KA 51 MA 425', 'M``````````````````````````````````````````````````````'),\n",
      " ('DL 4C ND 3660', 'M``````````````````````````````````````````````````````')]\n",
      "Epoch:8, train_loss:2.9328220647114973, valid_loss=2.8710973516423652\n",
      "char_accuracy:0.03834605111200855, label_accuracy:0.0\n"
     ]
    },
    {
     "name": "stderr",
     "output_type": "stream",
     "text": [
      "100%|██████████| 416/416 [00:32<00:00, 12.71it/s]\n",
      "100%|██████████| 47/47 [00:01<00:00, 38.90it/s]\n",
      "  0%|          | 0/416 [00:00<?, ?it/s]"
     ]
    },
    {
     "name": "stdout",
     "output_type": "stream",
     "text": [
      "[('MH 06 AZ 4325', 'M``````````````````````````````````````````````````````'),\n",
      " ('MH 46 N 2154', 'M``````````````````````````````````````````````````````'),\n",
      " ('DL3CAE2067', 'M``````````````````````````````````````````````````````'),\n",
      " ('AP 10 BB 3651', 'M``````````````````````````````````````````````````````'),\n",
      " ('WB 06A 1789', 'M``````````````````````````````````````````````````````'),\n",
      " ('WB 06F 6645', 'M``````````````````````````````````````````````````````'),\n",
      " ('AP 13M 6477', 'M``````````````````````````````````````````````````````'),\n",
      " ('PB 10 CE 5758', 'M``````````````````````````````````````````````````````'),\n",
      " ('KA 51 MA 425', 'MM`````````````````````````````````````````````````````'),\n",
      " ('DL 4C ND 3660', 'M``````````````````````````````````````````````````````')]\n",
      "Epoch:9, train_loss:2.898498630294433, valid_loss=2.83444248869064\n",
      "char_accuracy:0.03834605111200855, label_accuracy:0.0\n"
     ]
    },
    {
     "name": "stderr",
     "output_type": "stream",
     "text": [
      "100%|██████████| 416/416 [00:32<00:00, 12.81it/s]\n",
      "100%|██████████| 47/47 [00:01<00:00, 35.86it/s]\n",
      "  0%|          | 0/416 [00:00<?, ?it/s]"
     ]
    },
    {
     "name": "stdout",
     "output_type": "stream",
     "text": [
      "[('MH 06 AZ 4325', 'M``````````````````````````````````````````````````````'),\n",
      " ('MH 46 N 2154', 'M``````````````````````````````````````````````````````'),\n",
      " ('DL3CAE2067', 'M``````````````````````````````````````````````````````'),\n",
      " ('AP 10 BB 3651', 'M``````````````````````````````````````````````````````'),\n",
      " ('WB 06A 1789', 'M``````````````````````````````````````````````````````'),\n",
      " ('WB 06F 6645', 'M``````````````````````````````````````````````````````'),\n",
      " ('AP 13M 6477', 'M``````````````````````````````````````````````````````'),\n",
      " ('PB 10 CE 5758', 'M``````````````````````````````````````````````````````'),\n",
      " ('KA 51 MA 425', 'M``````````````````````````````````````````````````````'),\n",
      " ('DL 4C ND 3660', 'M``````````````````````````````````````````````````````')]\n",
      "Epoch:10, train_loss:2.866329432106935, valid_loss=2.807005359771404\n",
      "char_accuracy:0.03834605111200855, label_accuracy:0.0\n"
     ]
    },
    {
     "name": "stderr",
     "output_type": "stream",
     "text": [
      "100%|██████████| 416/416 [00:32<00:00, 12.87it/s]\n",
      "100%|██████████| 47/47 [00:01<00:00, 40.24it/s]\n",
      "  0%|          | 0/416 [00:00<?, ?it/s]"
     ]
    },
    {
     "name": "stdout",
     "output_type": "stream",
     "text": [
      "[('MH 06 AZ 4325', 'M``````````````````````````````````````````````````````'),\n",
      " ('MH 46 N 2154', 'M``````````````````````````````````````````````````````'),\n",
      " ('DL3CAE2067', 'MH`````````````````````````````````````````````````````'),\n",
      " ('AP 10 BB 3651', 'M``````````````````````````````````````````````````````'),\n",
      " ('WB 06A 1789', 'M``````````````````````````````````````````````````````'),\n",
      " ('WB 06F 6645', 'MH`````````````````````````````````````````````````````'),\n",
      " ('AP 13M 6477', 'M``````````````````````````````````````````````````````'),\n",
      " ('PB 10 CE 5758', 'M``````````````````````````````````````````````````````'),\n",
      " ('KA 51 MA 425', 'MH`````````````````````````````````````````````````````'),\n",
      " ('DL 4C ND 3660', 'M``````````````````````````````````````````````````````')]\n",
      "Epoch:11, train_loss:2.836373426593267, valid_loss=2.771514283849838\n",
      "char_accuracy:0.04339242317965721, label_accuracy:0.0\n"
     ]
    },
    {
     "name": "stderr",
     "output_type": "stream",
     "text": [
      "100%|██████████| 416/416 [00:31<00:00, 13.04it/s]\n",
      "100%|██████████| 47/47 [00:01<00:00, 35.73it/s]\n",
      "  0%|          | 0/416 [00:00<?, ?it/s]"
     ]
    },
    {
     "name": "stdout",
     "output_type": "stream",
     "text": [
      "[('MH 06 AZ 4325', 'MH`````````````````````````````````````````````````````'),\n",
      " ('MH 46 N 2154', 'MH`````````````````````````````````````````````````````'),\n",
      " ('DL3CAE2067', 'MH`````````````````````````````````````````````````````'),\n",
      " ('AP 10 BB 3651', 'MH`````````````````````````````````````````````````````'),\n",
      " ('WB 06A 1789', 'MH`````````````````````````````````````````````````````'),\n",
      " ('WB 06F 6645', 'MH`````````````````````````````````````````````````````'),\n",
      " ('AP 13M 6477', 'MH`````````````````````````````````````````````````````'),\n",
      " ('PB 10 CE 5758', 'M``````````````````````````````````````````````````````'),\n",
      " ('KA 51 MA 425', 'MH`````````````````````````````````````````````````````'),\n",
      " ('DL 4C ND 3660', 'MH`````````````````````````````````````````````````````')]\n",
      "Epoch:12, train_loss:2.8109226278387585, valid_loss=2.744700198477887\n",
      "char_accuracy:0.0748942546814887, label_accuracy:0.0\n"
     ]
    },
    {
     "name": "stderr",
     "output_type": "stream",
     "text": [
      "100%|██████████| 416/416 [00:33<00:00, 12.38it/s]\n",
      "100%|██████████| 47/47 [00:01<00:00, 38.36it/s]\n",
      "  0%|          | 0/416 [00:00<?, ?it/s]"
     ]
    },
    {
     "name": "stdout",
     "output_type": "stream",
     "text": [
      "[('MH 06 AZ 4325', 'MH`````````````````````````````````````````````````````'),\n",
      " ('MH 46 N 2154', 'MH`````````````````````````````````````````````````````'),\n",
      " ('DL3CAE2067', 'MH`````````````````````````````````````````````````````'),\n",
      " ('AP 10 BB 3651', 'MH`````````````````````````````````````````````````````'),\n",
      " ('WB 06A 1789', 'MH`````````````````````````````````````````````````````'),\n",
      " ('WB 06F 6645', 'MH`````````````````````````````````````````````````````'),\n",
      " ('AP 13M 6477', 'MH`````````````````````````````````````````````````````'),\n",
      " ('PB 10 CE 5758', 'MH`````````````````````````````````````````````````````'),\n",
      " ('KA 51 MA 425', 'MH`````````````````````````````````````````````````````'),\n",
      " ('DL 4C ND 3660', 'MH`````````````````````````````````````````````````````')]\n",
      "Epoch:13, train_loss:2.786798102924457, valid_loss=2.725331240511955\n",
      "char_accuracy:0.0748942546814887, label_accuracy:0.0\n"
     ]
    },
    {
     "name": "stderr",
     "output_type": "stream",
     "text": [
      "100%|██████████| 416/416 [00:33<00:00, 12.52it/s]\n",
      "100%|██████████| 47/47 [00:01<00:00, 34.69it/s]\n",
      "  0%|          | 0/416 [00:00<?, ?it/s]"
     ]
    },
    {
     "name": "stdout",
     "output_type": "stream",
     "text": [
      "[('MH 06 AZ 4325', 'MH`````````````````````````````````````````````````````'),\n",
      " ('MH 46 N 2154', 'MH`````````````````````````````````````````````````````'),\n",
      " ('DL3CAE2067', 'MH`````````````````````````````````````````````````````'),\n",
      " ('AP 10 BB 3651', 'MH`````````````````````````````````````````````````````'),\n",
      " ('WB 06A 1789', 'MH`````````````````````````````````````````````````````'),\n",
      " ('WB 06F 6645', 'MH`````````````````````````````````````````````````````'),\n",
      " ('AP 13M 6477', 'MH`````````````````````````````````````````````````````'),\n",
      " ('PB 10 CE 5758', 'MH`````````````````````````````````````````````````````'),\n",
      " ('KA 51 MA 425', 'MH`````````````````````````````````````````````````````'),\n",
      " ('DL 4C ND 3660', 'MH`````````````````````````````````````````````````````')]\n",
      "Epoch:14, train_loss:2.764520162000106, valid_loss=2.701362391735645\n",
      "char_accuracy:0.0748942546814887, label_accuracy:0.0\n"
     ]
    },
    {
     "name": "stderr",
     "output_type": "stream",
     "text": [
      "100%|██████████| 416/416 [00:32<00:00, 12.76it/s]\n",
      "100%|██████████| 47/47 [00:01<00:00, 38.77it/s]\n",
      "  0%|          | 0/416 [00:00<?, ?it/s]"
     ]
    },
    {
     "name": "stdout",
     "output_type": "stream",
     "text": [
      "[('MH 06 AZ 4325', 'MH`````````````````````````````````````````````````````'),\n",
      " ('MH 46 N 2154', 'MH`````````````````````````````````````````````````````'),\n",
      " ('DL3CAE2067', 'MH`````````````````````````````````````````````````````'),\n",
      " ('AP 10 BB 3651', 'MH`````````````````````````````````````````````````````'),\n",
      " ('WB 06A 1789', 'MH`````````````````````````````````````````````````````'),\n",
      " ('WB 06F 6645', 'MH`````````````````````````````````````````````````````'),\n",
      " ('AP 13M 6477', 'MH`````````````````````````````````````````````````````'),\n",
      " ('PB 10 CE 5758', 'MH`````````````````````````````````````````````````````'),\n",
      " ('KA 51 MA 425', 'MH`````````````````````````````````````````````````````'),\n",
      " ('DL 4C ND 3660', 'MH`````````````````````````````````````````````````````')]\n",
      "Epoch:15, train_loss:2.745305704955871, valid_loss=2.6860960138604995\n",
      "char_accuracy:0.0748942546814887, label_accuracy:0.0\n"
     ]
    },
    {
     "name": "stderr",
     "output_type": "stream",
     "text": [
      " 91%|█████████ | 379/416 [00:29<00:03, 12.01it/s]"
     ]
    }
   ],
   "source": [
    "run_training(model, train_loader, test_loader, optimizer, schedular, lbl_enc);"
   ]
  },
  {
   "cell_type": "code",
   "execution_count": 65,
   "metadata": {},
   "outputs": [
    {
     "data": {
      "image/png": "[encoded data removed]",
      "text/plain": [
       "<Figure size 432x288 with 1 Axes>"
      ]
     },
     "metadata": {
      "needs_background": "light"
     },
     "output_type": "display_data"
    }
   ],
   "source": [
    "plt.title('LOSS: Train vs Valid')\n",
    "plt.plot(loss['train'])\n",
    "plt.plot(loss['valid'])\n",
    "plt.legend(['train', 'valid'])\n",
    "plt.show()"
   ]
  },
  {
   "cell_type": "code",
   "execution_count": 66,
   "metadata": {},
   "outputs": [
    {
     "data": {
      "image/png": "[encoded data removed]",
      "text/plain": [
       "<Figure size 432x288 with 1 Axes>"
      ]
     },
     "metadata": {
      "needs_background": "light"
     },
     "output_type": "display_data"
    }
   ],
   "source": [
    "plt.title('Accuracy: Character vs Label')\n",
    "plt.plot(accuracy['character'])\n",
    "plt.plot(accuracy['label'])\n",
    "plt.legend(['character', 'label'])\n",
    "plt.show()"
   ]
  },
  {
   "cell_type": "markdown",
   "metadata": {},
   "source": [
    "# Save Data"
   ]
  },
  {
   "cell_type": "code",
   "execution_count": 67,
   "metadata": {},
   "outputs": [],
   "source": [
    "TRAIN_DIR = os.path.join('..','train')\n",
    "\n",
    "try:\n",
    "    os.mkdir(TRAIN_DIR)\n",
    "except FileExistsError:\n",
    "    pass"
   ]
  },
  {
   "cell_type": "code",
   "execution_count": 68,
   "metadata": {},
   "outputs": [],
   "source": [
    "TRAINER_DIR = os.path.join(TRAIN_DIR,'harshad')    # change this\n",
    "\n",
    "try:\n",
    "    os.mkdir(TRAINER_DIR)\n",
    "except FileExistsError:\n",
    "    pass"
   ]
  },
  {
   "cell_type": "code",
   "execution_count": 69,
   "metadata": {},
   "outputs": [],
   "source": [
    "# change this for every training\n",
    "# or it will overwrite your previous data\n",
    "\n",
    "VER_FILE = os.path.join(TRAINER_DIR, 'text_recognition-ver-19.0.pth')\n",
    "\n",
    "comment = '1) Transfer learning on ver-18 \\n2) Real word dataset of approx 100 img so train_epoch will be high'"
   ]
  },
  {
   "cell_type": "code",
   "execution_count": 70,
   "metadata": {},
   "outputs": [],
   "source": [
    "# save state\n",
    "torch.save(\n",
    "    {'lr': LR,\n",
    "    'train_epoch': epoch_count,\n",
    "    'model': PlateRecognizer(num_chars=len(lbl_enc.classes_)),\n",
    "    'model_state_dict': model.state_dict(),\n",
    "    'classes': lbl_enc.classes_,\n",
    "    'optimizer_name': optimizer_name,\n",
    "    'optimizer_state_dict': optimizer.state_dict(),\n",
    "    'scheduler_state_dict': schedular.state_dict(),\n",
    "    'scheduler_name': schedular_name,\n",
    "    'loss': loss,\n",
    "    'accuracy': accuracy,\n",
    "    'comment':comment},\n",
    "    VER_FILE\n",
    ")"
   ]
  },
  {
   "cell_type": "markdown",
   "metadata": {},
   "source": [
    "# jovian commit"
   ]
  },
  {
   "cell_type": "code",
   "execution_count": null,
   "metadata": {},
   "outputs": [],
   "source": [
    "!pip install jovian"
   ]
  },
  {
   "cell_type": "code",
   "execution_count": null,
   "metadata": {},
   "outputs": [],
   "source": [
    "import jovian"
   ]
  },
  {
   "cell_type": "code",
   "execution_count": null,
   "metadata": {},
   "outputs": [],
   "source": [
    "jovian.commit(project=\"text-recognition\")"
   ]
  },
  {
   "cell_type": "code",
   "execution_count": null,
   "metadata": {},
   "outputs": [],
   "source": [
    "!ls"
   ]
  },
  {
   "cell_type": "code",
   "execution_count": null,
   "metadata": {},
   "outputs": [],
   "source": []
  }
 ],
 "metadata": {
  "kernelspec": {
   "display_name": "Python 3",
   "language": "python",
   "name": "python3"
  },
  "language_info": {
   "codemirror_mode": {
    "name": "ipython",
    "version": 3
   },
   "file_extension": ".py",
   "mimetype": "text/x-python",
   "name": "python",
   "nbconvert_exporter": "python",
   "pygments_lexer": "ipython3",
   "version": "3.8.5"
  }
 },
 "nbformat": 4,
 "nbformat_minor": 4
}

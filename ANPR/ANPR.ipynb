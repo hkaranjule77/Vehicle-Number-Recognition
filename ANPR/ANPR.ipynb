{
 "cells": [
  {
   "cell_type": "code",
   "execution_count": 1,
   "metadata": {},
   "outputs": [],
   "source": [
    "import cv2\n",
    "import numpy as np\n",
    "\n",
    "frameWidth = 640    #Frame Width\n",
    "franeHeight = 480   # Frame Height\n",
    "\n",
    "plateCascade = cv2.CascadeClassifier(\"E:\\ML\\ANPR\\haarcascade_russian_plate_number.xml\")\n",
    "minArea = 500\n",
    "\n",
    "cap =cv2.VideoCapture(0)\n",
    "cap.set(3,frameWidth)\n",
    "cap.set(4,franeHeight)\n",
    "cap.set(10,150)\n",
    "count = 0\n",
    "\n",
    "while True:\n",
    "    success , img  = cap.read()\n",
    "\n",
    "    imgGray = cv2.cvtColor(img, cv2.COLOR_BGR2GRAY)\n",
    "    \n",
    "    if cv2.waitKey(1) & 0xFF == ord('q'):\n",
    "        break\n",
    "\n",
    "    numberPlates = plateCascade .detectMultiScale(imgGray, 1.1, 4)\n",
    "\n",
    "    for (x, y, w, h) in numberPlates:\n",
    "        area = w*h\n",
    "        if area > minArea:\n",
    "            cv2.rectangle(img, (x, y), (x + w, y + h), (255, 0, 0), 2)\n",
    "            cv2.putText(img,\"NumberPlate\",(x,y-5),cv2.FONT_HERSHEY_COMPLEX,1,(0,0,255),2)\n",
    "            imgRoi = img[y:y+h,x:x+w]\n",
    "            cv2.imshow(\"ROI\",imgRoi)\n",
    "    cv2.imshow(\"Result\",img)\n",
    "    if cv2.waitKey(1) & 0xFF ==ord('s'):\n",
    "        cv2.imwrite(\"E:\\ML\\ANPR\\images\\img\"+str(count)+\".jpg\",imgRoi)\n",
    "        cv2.rectangle(img,(0,200),(640,300),(0,255,0),cv2.FILLED)\n",
    "        cv2.putText(img,\"Scan Saved\",(15,265),cv2.FONT_HERSHEY_COMPLEX,2,(0,0,255),2)\n",
    "        cv2.imshow(\"Result\",img)\n",
    "        \n",
    "        cv2.waitKey(500)\n",
    "        count+=1\n"
   ]
  },
  {
   "cell_type": "code",
   "execution_count": null,
   "metadata": {},
   "outputs": [],
   "source": []
  },
  {
   "cell_type": "code",
   "execution_count": null,
   "metadata": {},
   "outputs": [],
   "source": []
  }
 ],
 "metadata": {
  "kernelspec": {
   "display_name": "Python 3",
   "language": "python",
   "name": "python3"
  },
  "language_info": {
   "codemirror_mode": {
    "name": "ipython",
    "version": 3
   },
   "file_extension": ".py",
   "mimetype": "text/x-python",
   "name": "python",
   "nbconvert_exporter": "python",
   "pygments_lexer": "ipython3",
   "version": "3.7.4"
  }
 },
 "nbformat": 4,
 "nbformat_minor": 2
}
